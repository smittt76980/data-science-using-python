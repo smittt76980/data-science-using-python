{
 "cells": [
  {
   "cell_type": "code",
   "execution_count": 12,
   "id": "4faa8fa9",
   "metadata": {},
   "outputs": [
    {
     "name": "stdout",
     "output_type": "stream",
     "text": [
      "2401\n"
     ]
    }
   ],
   "source": [
    "result = 7**4\n",
    "print(result)"
   ]
  },
  {
   "cell_type": "code",
   "execution_count": 3,
   "id": "81d024b6",
   "metadata": {},
   "outputs": [
    {
     "name": "stdout",
     "output_type": "stream",
     "text": [
      "['hi', 'there', 'sam!']\n"
     ]
    }
   ],
   "source": [
    "s=\"hi there sam!\"\n",
    "\n",
    "\n",
    "word_list=s.split()\n",
    "print(word_list)\n"
   ]
  },
  {
   "cell_type": "code",
   "execution_count": 4,
   "id": "1d140b4c",
   "metadata": {},
   "outputs": [
    {
     "name": "stdout",
     "output_type": "stream",
     "text": [
      "planet: earth\n",
      "diameter: 12742\n"
     ]
    }
   ],
   "source": [
    "planet=\"earth\"\n",
    "diameter=\"12742\"\n",
    "print(\"planet:\",planet)\n",
    "print(\"diameter:\",diameter)"
   ]
  },
  {
   "cell_type": "code",
   "execution_count": 5,
   "id": "b649cb23",
   "metadata": {},
   "outputs": [
    {
     "name": "stdout",
     "output_type": "stream",
     "text": [
      "enter variable8\n",
      "enter number\n",
      "1\n",
      "1\n",
      "2\n",
      "3\n",
      "4\n",
      "4\n",
      "5\n",
      "6\n",
      "['1', '1', '2', '3', '4', '4', '5', '6']\n"
     ]
    }
   ],
   "source": [
    "n=int(input(\"enter variable\"))\n",
    "\n",
    "lst=[]\n",
    "newlst=[]\n",
    "print(\"enter number\")\n",
    "for i in range(0,n):\n",
    "    j =input()\n",
    "    lst.append(j)\n",
    "    \n",
    "print(lst)    "
   ]
  },
  {
   "cell_type": "code",
   "execution_count": 6,
   "id": "06e08355",
   "metadata": {},
   "outputs": [
    {
     "name": "stdout",
     "output_type": "stream",
     "text": [
      "enter value45667\n",
      "enrollment id  student name   email id                 \n",
      "45667          jiya           jiya@nuv.ac.in           \n"
     ]
    }
   ],
   "source": [
    "mydict={\"enrollment id\" :[12345,45667,16789,69433],\n",
    "     \"student name\" : [\"diksha\",\"jiya\",\"rohit\",\"heena\"],\n",
    "      \"email id\": [\"dikshar@nuv.ac.in\",\"jiya@nuv.ac.in\",\"rohit@nuv.ac.in\",\"heena@nuv.ac.in\"] }\n",
    "#mydict[\"enrollment id\"][0]\n",
    "uid=int(input(\"enter value\"))\n",
    "print(f\"{'enrollment id':<15}{'student name':<15}{'email id':<25}\")\n",
    "for i in range(len(mydict[\"enrollment id\"])):\n",
    "    if mydict[\"enrollment id\"][i]==uid:\n",
    "        enrolid=mydict[\"enrollment id\"][i]\n",
    "        sname=mydict[\"student name\"][i]\n",
    "        emailid=mydict[\"email id\"][i]\n",
    "        print(f\"{enrolid:<15}{sname:15}{emailid:25}\")"
   ]
  },
  {
   "cell_type": "code",
   "execution_count": 7,
   "id": "82cbacb4",
   "metadata": {},
   "outputs": [
    {
     "name": "stdout",
     "output_type": "stream",
     "text": [
      "{'Enroll': [12345, 67890, 11111, 22222], 'Name': ['Het', 'sakshi', 'Vrund', 'smit'], 'Email': ['het@nuv.ac.in', 'sakshi@nuv.ac.in', 'vrund@nuv.ac.in', 'smit@nuv.ac.in']}\n"
     ]
    }
   ],
   "source": [
    "data=[(12345,\"Het\",\"het@nuv.ac.in\"),(67890,\"sakshi\",\"sakshi@nuv.ac.in\"),\n",
    "      (11111,\"Vrund\",\"vrund@nuv.ac.in\"),(22222,\"smit\",\"smit@nuv.ac.in\")]\n",
    "mydict={\"Enroll\":[d[0] for d in data],\"Name\":[d[1] for d in data],\"Email\":[d[2] for d in data]}\n",
    "\n",
    "print(mydict)"
   ]
  },
  {
   "cell_type": "code",
   "execution_count": 8,
   "id": "5fad1a0f",
   "metadata": {},
   "outputs": [
    {
     "ename": "TypeError",
     "evalue": "write() argument must be str, not function",
     "output_type": "error",
     "traceback": [
      "\u001b[1;31m---------------------------------------------------------------------------\u001b[0m",
      "\u001b[1;31mTypeError\u001b[0m                                 Traceback (most recent call last)",
      "Cell \u001b[1;32mIn[8], line 4\u001b[0m\n\u001b[0;32m      2\u001b[0m fw\u001b[38;5;241m=\u001b[39m\u001b[38;5;28mopen\u001b[39m(\u001b[38;5;124m\"\u001b[39m\u001b[38;5;124mstudents.json\u001b[39m\u001b[38;5;124m\"\u001b[39m,\u001b[38;5;124m\"\u001b[39m\u001b[38;5;124mw\u001b[39m\u001b[38;5;124m\"\u001b[39m)\n\u001b[0;32m      3\u001b[0m jsndata\u001b[38;5;241m=\u001b[39mjson\u001b[38;5;241m.\u001b[39mdumps\n\u001b[1;32m----> 4\u001b[0m \u001b[43mfw\u001b[49m\u001b[38;5;241;43m.\u001b[39;49m\u001b[43mwrite\u001b[49m\u001b[43m(\u001b[49m\u001b[43mjsndata\u001b[49m\u001b[43m)\u001b[49m\n\u001b[0;32m      5\u001b[0m fr\u001b[38;5;241m=\u001b[39m\u001b[38;5;28mopen\u001b[39m(\u001b[38;5;124m\"\u001b[39m\u001b[38;5;124mstudents.json\u001b[39m\u001b[38;5;124m\"\u001b[39m,\u001b[38;5;124m\"\u001b[39m\u001b[38;5;124mr\u001b[39m\u001b[38;5;124m\"\u001b[39m)\n\u001b[0;32m      6\u001b[0m allstudents\u001b[38;5;241m=\u001b[39mjson\u001b[38;5;241m.\u001b[39mload(fr)\n",
      "\u001b[1;31mTypeError\u001b[0m: write() argument must be str, not function"
     ]
    }
   ],
   "source": [
    "import json\n",
    "fw=open(\"students.json\",\"w\")\n",
    "jsndata=json.dumps\n",
    "fw.write(jsndata)\n",
    "fr=open(\"students.json\",\"r\")\n",
    "allstudents=json.load(fr)"
   ]
  },
  {
   "cell_type": "code",
   "execution_count": null,
   "id": "98f865fc",
   "metadata": {},
   "outputs": [],
   "source": []
  }
 ],
 "metadata": {
  "kernelspec": {
   "display_name": "Python 3 (ipykernel)",
   "language": "python",
   "name": "python3"
  },
  "language_info": {
   "codemirror_mode": {
    "name": "ipython",
    "version": 3
   },
   "file_extension": ".py",
   "mimetype": "text/x-python",
   "name": "python",
   "nbconvert_exporter": "python",
   "pygments_lexer": "ipython3",
   "version": "3.10.9"
  }
 },
 "nbformat": 4,
 "nbformat_minor": 5
}
