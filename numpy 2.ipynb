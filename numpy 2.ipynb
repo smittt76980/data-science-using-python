{
 "cells": [
  {
   "cell_type": "code",
   "execution_count": 5,
   "id": "af079a76",
   "metadata": {},
   "outputs": [],
   "source": [
    "import numpy as np"
   ]
  },
  {
   "cell_type": "code",
   "execution_count": 6,
   "id": "2ea4ac1e",
   "metadata": {},
   "outputs": [
    {
     "data": {
      "text/plain": [
       "array([14.89753449,  6.65091309,  6.57947799,  5.43703285,  0.58151068,\n",
       "        4.24853587,  0.96572639, 12.11410758, 10.879721  ,  6.31364802])"
      ]
     },
     "execution_count": 6,
     "metadata": {},
     "output_type": "execute_result"
    }
   ],
   "source": [
    "rarr=np.random.uniform(0,15,10)\n",
    "rarr\n",
    "                    "
   ]
  },
  {
   "cell_type": "code",
   "execution_count": 11,
   "id": "b602fb20",
   "metadata": {},
   "outputs": [
    {
     "data": {
      "text/plain": [
       "array([14.9 ,  6.65,  6.58,  5.44,  0.58,  4.25,  0.97, 12.11, 10.88,\n",
       "        6.31])"
      ]
     },
     "execution_count": 11,
     "metadata": {},
     "output_type": "execute_result"
    }
   ],
   "source": [
    "np.round(rarr,decimals=2)"
   ]
  },
  {
   "cell_type": "code",
   "execution_count": 13,
   "id": "456e1077",
   "metadata": {},
   "outputs": [
    {
     "data": {
      "text/plain": [
       "array([15.,  7.,  7.,  6.,  1.,  5.,  1., 13., 11.,  7.])"
      ]
     },
     "execution_count": 13,
     "metadata": {},
     "output_type": "execute_result"
    }
   ],
   "source": [
    "np.ceil(rarr)"
   ]
  },
  {
   "cell_type": "code",
   "execution_count": 14,
   "id": "6d256441",
   "metadata": {},
   "outputs": [
    {
     "data": {
      "text/plain": [
       "array([14.,  6.,  6.,  5.,  0.,  4.,  0., 12., 10.,  6.])"
      ]
     },
     "execution_count": 14,
     "metadata": {},
     "output_type": "execute_result"
    }
   ],
   "source": [
    "np.floor(rarr)"
   ]
  },
  {
   "cell_type": "code",
   "execution_count": 16,
   "id": "952f277b",
   "metadata": {},
   "outputs": [],
   "source": [
    "mat=np.arange(0,25).reshape(5,5)"
   ]
  },
  {
   "cell_type": "code",
   "execution_count": 17,
   "id": "bfe625ef",
   "metadata": {},
   "outputs": [
    {
     "data": {
      "text/plain": [
       "array([[ 0,  1,  2,  3,  4],\n",
       "       [ 5,  6,  7,  8,  9],\n",
       "       [10, 11, 12, 13, 14],\n",
       "       [15, 16, 17, 18, 19],\n",
       "       [20, 21, 22, 23, 24]])"
      ]
     },
     "execution_count": 17,
     "metadata": {},
     "output_type": "execute_result"
    }
   ],
   "source": [
    "mat"
   ]
  },
  {
   "cell_type": "code",
   "execution_count": 19,
   "id": "11b244c3",
   "metadata": {},
   "outputs": [
    {
     "data": {
      "text/plain": [
       "array([50, 55, 60, 65, 70])"
      ]
     },
     "execution_count": 19,
     "metadata": {},
     "output_type": "execute_result"
    }
   ],
   "source": [
    "np.sum(mat,axis=0)"
   ]
  },
  {
   "cell_type": "code",
   "execution_count": 20,
   "id": "57ba2e2f",
   "metadata": {},
   "outputs": [
    {
     "data": {
      "text/plain": [
       "array([0, 1, 2, 3, 4])"
      ]
     },
     "execution_count": 20,
     "metadata": {},
     "output_type": "execute_result"
    }
   ],
   "source": [
    "np.min(mat,axis=0)"
   ]
  },
  {
   "cell_type": "code",
   "execution_count": 21,
   "id": "315d174a",
   "metadata": {},
   "outputs": [
    {
     "data": {
      "text/plain": [
       "array([20, 21, 22, 23, 24])"
      ]
     },
     "execution_count": 21,
     "metadata": {},
     "output_type": "execute_result"
    }
   ],
   "source": [
    "np.max(mat,axis=0)"
   ]
  },
  {
   "cell_type": "code",
   "execution_count": 23,
   "id": "1cb21a31",
   "metadata": {},
   "outputs": [
    {
     "data": {
      "text/plain": [
       "array([50., 50., 50., 50., 50.])"
      ]
     },
     "execution_count": 23,
     "metadata": {},
     "output_type": "execute_result"
    }
   ],
   "source": [
    "np.var(mat,axis=0)"
   ]
  },
  {
   "cell_type": "code",
   "execution_count": 24,
   "id": "47e3120a",
   "metadata": {},
   "outputs": [
    {
     "data": {
      "text/plain": [
       "array([7.07106781, 7.07106781, 7.07106781, 7.07106781, 7.07106781])"
      ]
     },
     "execution_count": 24,
     "metadata": {},
     "output_type": "execute_result"
    }
   ],
   "source": [
    "np.std(mat,axis=0)"
   ]
  },
  {
   "cell_type": "code",
   "execution_count": 25,
   "id": "2acdbd59",
   "metadata": {},
   "outputs": [],
   "source": [
    "nv=np.full(10,'NaN')"
   ]
  },
  {
   "cell_type": "code",
   "execution_count": 26,
   "id": "c6fc3c2d",
   "metadata": {},
   "outputs": [],
   "source": [
    "nv[5]=200"
   ]
  },
  {
   "cell_type": "code",
   "execution_count": 27,
   "id": "5f26403e",
   "metadata": {},
   "outputs": [
    {
     "data": {
      "text/plain": [
       "array(['NaN', 'NaN', 'NaN', 'NaN', 'NaN', '200', 'NaN', 'NaN', 'NaN',\n",
       "       'NaN'], dtype='<U3')"
      ]
     },
     "execution_count": 27,
     "metadata": {},
     "output_type": "execute_result"
    }
   ],
   "source": [
    "nv"
   ]
  },
  {
   "cell_type": "code",
   "execution_count": 32,
   "id": "04cca137",
   "metadata": {},
   "outputs": [
    {
     "data": {
      "text/plain": [
       "array([100, 101, 102, 103, 104, 105, 106, 107, 108, 109, 110, 111, 112,\n",
       "       113, 114, 115, 116, 117, 118, 119, 120, 121, 122, 123, 124, 125,\n",
       "       126, 127, 128, 129, 130, 131, 132, 133, 134, 135, 136, 137, 138,\n",
       "       139, 140, 141, 142, 143, 144, 145, 146, 147, 148, 149])"
      ]
     },
     "execution_count": 32,
     "metadata": {},
     "output_type": "execute_result"
    }
   ],
   "source": [
    "hey=np.arange(100,150)\n",
    "hey"
   ]
  },
  {
   "cell_type": "code",
   "execution_count": 33,
   "id": "d8eac6da",
   "metadata": {},
   "outputs": [
    {
     "data": {
      "text/plain": [
       "array([149, 148, 147, 146, 145, 144, 143, 142, 141, 140, 139, 138, 137,\n",
       "       136, 135, 134, 133, 132, 131, 130, 129, 128, 127, 126, 125, 124,\n",
       "       123, 122, 121, 120, 119, 118, 117, 116, 115, 114, 113, 112, 111,\n",
       "       110, 109, 108, 107, 106, 105, 104, 103, 102, 101, 100])"
      ]
     },
     "execution_count": 33,
     "metadata": {},
     "output_type": "execute_result"
    }
   ],
   "source": [
    "np.flip(hey)"
   ]
  },
  {
   "cell_type": "code",
   "execution_count": 34,
   "id": "5c190ce7",
   "metadata": {},
   "outputs": [
    {
     "data": {
      "text/plain": [
       "array([[ 0,  1,  2,  3,  4],\n",
       "       [ 5,  6,  7,  8,  9],\n",
       "       [10, 11, 12, 13, 14],\n",
       "       [15, 16, 17, 18, 19],\n",
       "       [20, 21, 22, 23, 24]])"
      ]
     },
     "execution_count": 34,
     "metadata": {},
     "output_type": "execute_result"
    }
   ],
   "source": [
    "mat=np.arange(0,25).reshape(5,5)\n",
    "mat"
   ]
  },
  {
   "cell_type": "code",
   "execution_count": 35,
   "id": "de2e0f16",
   "metadata": {},
   "outputs": [
    {
     "data": {
      "text/plain": [
       "(array([0, 2, 3, 4, 7], dtype=int64),)"
      ]
     },
     "execution_count": 35,
     "metadata": {},
     "output_type": "execute_result"
    }
   ],
   "source": [
    "code=np.nonzero([1,0,2,5,8,0,0,9,0,])\n",
    "code"
   ]
  },
  {
   "cell_type": "code",
   "execution_count": 39,
   "id": "793f2736",
   "metadata": {},
   "outputs": [
    {
     "data": {
      "text/plain": [
       "array([[1., 1., 1., 1., 1., 1., 1., 1., 1., 1.],\n",
       "       [1., 1., 1., 1., 1., 1., 1., 1., 1., 1.],\n",
       "       [1., 1., 1., 1., 1., 1., 1., 1., 1., 1.],\n",
       "       [1., 1., 1., 1., 1., 1., 1., 1., 1., 1.],\n",
       "       [1., 1., 1., 1., 1., 1., 1., 1., 1., 1.],\n",
       "       [1., 1., 1., 1., 1., 1., 1., 1., 1., 1.],\n",
       "       [1., 1., 1., 1., 1., 1., 1., 1., 1., 1.],\n",
       "       [1., 1., 1., 1., 1., 1., 1., 1., 1., 1.],\n",
       "       [1., 1., 1., 1., 1., 1., 1., 1., 1., 1.],\n",
       "       [1., 1., 1., 1., 1., 1., 1., 1., 1., 1.]])"
      ]
     },
     "execution_count": 39,
     "metadata": {},
     "output_type": "execute_result"
    }
   ],
   "source": [
    "np.ones((10,10))"
   ]
  },
  {
   "cell_type": "code",
   "execution_count": 40,
   "id": "abaa32b2",
   "metadata": {},
   "outputs": [
    {
     "ename": "NameError",
     "evalue": "name 'm' is not defined",
     "output_type": "error",
     "traceback": [
      "\u001b[1;31m---------------------------------------------------------------------------\u001b[0m",
      "\u001b[1;31mNameError\u001b[0m                                 Traceback (most recent call last)",
      "Cell \u001b[1;32mIn[40], line 1\u001b[0m\n\u001b[1;32m----> 1\u001b[0m \u001b[43mm\u001b[49m[::\u001b[38;5;241m2\u001b[39m,::\u001b[38;5;241m2\u001b[39m]\u001b[38;5;241m=\u001b[39m\u001b[38;5;241m0\u001b[39m\n\u001b[0;32m      2\u001b[0m m[\u001b[38;5;241m1\u001b[39m::\u001b[38;5;241m2\u001b[39m,\u001b[38;5;241m1\u001b[39m::\u001b[38;5;241m2\u001b[39m]\u001b[38;5;241m=\u001b[39m\u001b[38;5;241m0\u001b[39m\n",
      "\u001b[1;31mNameError\u001b[0m: name 'm' is not defined"
     ]
    }
   ],
   "source": [
    "m[::2,::2]=0\n",
    "m[1::2,1::2]=0"
   ]
  },
  {
   "cell_type": "code",
   "execution_count": 1,
   "id": "b07c7a9f",
   "metadata": {},
   "outputs": [
    {
     "name": "stdout",
     "output_type": "stream",
     "text": [
      "  product_id product_name  product_price\n",
      "0       P001        Phone         499.99\n",
      "1       P002       Tablet         299.99\n",
      "2       P003        Watch         199.99\n",
      "3       P004      Earbuds          99.99\n",
      "4       P005      Speaker          79.99\n"
     ]
    }
   ],
   "source": [
    "import pandas as pd\n",
    "\n",
    "product_ids = [\"P001\", \"P002\", \"P003\", \"P004\", \"P005\"]\n",
    "product_names = [\"Phone\", \"Tablet\", \"Watch\", \"Earbuds\", \"Speaker\"]\n",
    "product_prices = [499.99, 299.99, 199.99, 99.99, 79.99]\n",
    "\n",
    "data = {\n",
    "    \"product_id\": product_ids,\n",
    "    \"product_name\": product_names,\n",
    "    \"product_price\": product_prices\n",
    "}\n",
    "\n",
    "df = pd.DataFrame(data)\n",
    "\n",
    "print(df)"
   ]
  },
  {
   "cell_type": "code",
   "execution_count": 2,
   "id": "c2dfc42c",
   "metadata": {},
   "outputs": [
    {
     "data": {
      "text/plain": [
       "'Earbuds'"
      ]
     },
     "execution_count": 2,
     "metadata": {},
     "output_type": "execute_result"
    }
   ],
   "source": [
    "df['product_name'].loc[3]"
   ]
  },
  {
   "cell_type": "code",
   "execution_count": 3,
   "id": "e8caa6be",
   "metadata": {},
   "outputs": [
    {
     "data": {
      "text/plain": [
       "product_id          P004\n",
       "product_name     Earbuds\n",
       "product_price      99.99\n",
       "Name: 3, dtype: object"
      ]
     },
     "execution_count": 3,
     "metadata": {},
     "output_type": "execute_result"
    }
   ],
   "source": [
    "df.loc[3]"
   ]
  },
  {
   "cell_type": "code",
   "execution_count": null,
   "id": "70106731",
   "metadata": {},
   "outputs": [],
   "source": []
  }
 ],
 "metadata": {
  "kernelspec": {
   "display_name": "Python 3 (ipykernel)",
   "language": "python",
   "name": "python3"
  },
  "language_info": {
   "codemirror_mode": {
    "name": "ipython",
    "version": 3
   },
   "file_extension": ".py",
   "mimetype": "text/x-python",
   "name": "python",
   "nbconvert_exporter": "python",
   "pygments_lexer": "ipython3",
   "version": "3.10.9"
  }
 },
 "nbformat": 4,
 "nbformat_minor": 5
}
